{
 "cells": [
  {
   "cell_type": "code",
   "execution_count": 1,
   "id": "1bc56f94",
   "metadata": {},
   "outputs": [],
   "source": [
    "import numpy as np\n",
    "import pandas as pd\n",
    "import matplotlib.pyplot as plt\n",
    "\n",
    "from sklearn.datasets import load_breast_cancer\n",
    "from sklearn.model_selection import train_test_split, GridSearchCV\n",
    "from sklearn.compose import ColumnTransformer, make_column_selector as selector\n",
    "from sklearn.pipeline import Pipeline\n",
    "from sklearn.preprocessing import OneHotEncoder\n",
    "from sklearn.impute import SimpleImputer\n",
    "from sklearn.ensemble import RandomForestClassifier\n",
    "from sklearn.metrics import (accuracy_score, f1_score, roc_auc_score, roc_curve,confusion_matrix, classification_report)"
   ]
  },
  {
   "cell_type": "code",
   "execution_count": 2,
   "id": "fadd9876",
   "metadata": {},
   "outputs": [
    {
     "name": "stdout",
     "output_type": "stream",
     "text": [
      "Shape: (569, 30)\n"
     ]
    }
   ],
   "source": [
    "bc = load_breast_cancer()\n",
    "X = pd.DataFrame(bc.data, columns=bc.feature_names)   \n",
    "y = pd.Series(bc.target, name=\"target\")              \n",
    "\n",
    "print(\"Shape:\", X.shape)\n"
   ]
  },
  {
   "cell_type": "code",
   "execution_count": 4,
   "id": "75952dfa",
   "metadata": {},
   "outputs": [],
   "source": [
    "X_train, X_tmp, y_train, y_tmp = train_test_split(\n",
    "    X, y, test_size=0.40, random_state=42, stratify=y\n",
    ")\n",
    "X_val, X_test, y_val, y_test = train_test_split(\n",
    "    X_tmp, y_tmp, test_size=0.50, random_state=42, stratify=y_tmp\n",
    ")"
   ]
  },
  {
   "cell_type": "code",
   "execution_count": 5,
   "id": "2ef6e639",
   "metadata": {},
   "outputs": [],
   "source": [
    "num_pipe = Pipeline([(\"imp\", SimpleImputer(strategy=\"median\"))])\n",
    "cat_pipe = Pipeline([\n",
    "    (\"imp\", SimpleImputer(strategy=\"most_frequent\")),\n",
    "    (\"ohe\", OneHotEncoder(handle_unknown=\"ignore\"))\n",
    "])\n",
    "pre = ColumnTransformer(\n",
    "    transformers=[\n",
    "        (\"num\", num_pipe, selector(dtype_include=np.number)),\n",
    "        (\"cat\", cat_pipe, selector(dtype_exclude=np.number)),\n",
    "    ],\n",
    "    remainder=\"drop\"\n",
    ")"
   ]
  },
  {
   "cell_type": "code",
   "execution_count": 6,
   "id": "eb0fc5ef",
   "metadata": {},
   "outputs": [
    {
     "name": "stdout",
     "output_type": "stream",
     "text": [
      "\n",
      "== Baseline on VAL ==\n",
      "Accuracy: 0.9649122807017544\n",
      "F1(malignant=pos): 0.9512195121951219\n",
      "ROC-AUC: 0.0033068783068783076\n"
     ]
    }
   ],
   "source": [
    "base = Pipeline([\n",
    "    (\"pre\", pre),\n",
    "    (\"clf\", RandomForestClassifier(\n",
    "        random_state=42, n_jobs=-1, bootstrap=True\n",
    "    ))\n",
    "])\n",
    "base.fit(X_train, y_train)\n",
    "y_val_pred = base.predict(X_val)\n",
    "y_val_proba = base.predict_proba(X_val)[:, 0]  # lớp 0 = malignant\n",
    "\n",
    "print(\"\\n== Baseline on VAL ==\")\n",
    "print(\"Accuracy:\", accuracy_score(y_val, y_val_pred))\n",
    "print(\"F1(malignant=pos):\", f1_score(y_val, y_val_pred, pos_label=0))\n",
    "print(\"ROC-AUC:\", roc_auc_score(y_val, y_val_proba))"
   ]
  },
  {
   "cell_type": "code",
   "execution_count": null,
   "id": "8b9e35ef",
   "metadata": {},
   "outputs": [
    {
     "name": "stdout",
     "output_type": "stream",
     "text": [
      "Fitting 5 folds for each of 2592 candidates, totalling 12960 fits\n",
      "\n",
      "Best params: {'clf__bootstrap': True, 'clf__class_weight': 'balanced', 'clf__criterion': 'gini', 'clf__max_depth': None, 'clf__max_features': 'log2', 'clf__min_samples_leaf': 2, 'clf__min_samples_split': 2, 'clf__n_estimators': 400}\n",
      "\n",
      "== Tuned model on VAL ==\n",
      "Accuracy: 0.9649122807017544\n",
      "F1(malignant=pos): 0.9512195121951219\n",
      "ROC-AUC: 0.0036375661375661382\n"
     ]
    }
   ],
   "source": [
    "pipe = Pipeline([\n",
    "    (\"pre\", pre),\n",
    "    (\"clf\", RandomForestClassifier(random_state=42, n_jobs=-1))\n",
    "])\n",
    "\n",
    "param_grid = {\n",
    "    \"clf__n_estimators\": [200, 400, 800],\n",
    "    \"clf__criterion\": [\"gini\", \"entropy\"],       # (ổn định trên mọi phiên bản)\n",
    "    \"clf__max_depth\": [None, 6, 10, 14],\n",
    "    \"clf__min_samples_split\": [2, 5, 10],\n",
    "    \"clf__min_samples_leaf\": [1, 2, 4],\n",
    "    \"clf__max_features\": [\"sqrt\", \"log2\", 0.5],  # 0.5 = 50% số feature\n",
    "    \"clf__bootstrap\": [True, False],\n",
    "    \"clf__class_weight\": [None, \"balanced\"],     # đề phòng lệch lớp\n",
    "}\n",
    "\n",
    "grid = GridSearchCV(\n",
    "    estimator=pipe,\n",
    "    param_grid=param_grid,\n",
    "    scoring={\"roc_auc\": \"roc_auc\", \"f1\": \"f1\", \"accuracy\": \"accuracy\"},\n",
    "    refit=\"roc_auc\",\n",
    "    cv=5,\n",
    "    n_jobs=-1,\n",
    "    verbose=1\n",
    ")\n",
    "grid.fit(X_train, y_train)\n",
    "\n",
    "print(\"\\nBest params:\", grid.best_params_)\n",
    "best = grid.best_estimator_\n",
    "\n",
    "y_val_pred = best.predict(X_val)\n",
    "y_val_proba = best.predict_proba(X_val)[:, 0]\n",
    "\n",
    "print(\"Accuracy:\", accuracy_score(y_val, y_val_pred))\n",
    "print(\"F1(malignant=pos):\", f1_score(y_val, y_val_pred, pos_label=0))\n",
    "print(\"ROC-AUC:\", roc_auc_score(y_val, y_val_proba))"
   ]
  },
  {
   "cell_type": "code",
   "execution_count": 12,
   "id": "bb0f4728",
   "metadata": {},
   "outputs": [
    {
     "name": "stdout",
     "output_type": "stream",
     "text": [
      "\n",
      "Testset:\n",
      "Accuracy: 0.9298245614035088\n",
      "F1(malignant=pos): 0.9090909090909091\n",
      "ROC-AUC: 0.008516213560432362\n",
      "\n",
      "Classification report (TEST):\n",
      "              precision    recall  f1-score   support\n",
      "\n",
      "   malignant       0.89      0.93      0.91        43\n",
      "      benign       0.96      0.93      0.94        71\n",
      "\n",
      "    accuracy                           0.93       114\n",
      "   macro avg       0.92      0.93      0.93       114\n",
      "weighted avg       0.93      0.93      0.93       114\n",
      "\n",
      "Confusion matrix [[TP_mal, FP_mal],[FN_mal, TN_mal]]:\n",
      " [[40  3]\n",
      " [ 5 66]]\n"
     ]
    }
   ],
   "source": [
    "X_trainval = pd.concat([X_train, X_val], axis=0)\n",
    "y_trainval = pd.concat([y_train, y_val], axis=0)\n",
    "\n",
    "final_model = grid.best_estimator_\n",
    "final_model.fit(X_trainval, y_trainval)\n",
    "\n",
    "y_test_pred  = final_model.predict(X_test)\n",
    "y_test_proba = final_model.predict_proba(X_test)[:, 0]\n",
    "\n",
    "print(\"\\nTestset:\")\n",
    "print(\"Accuracy:\", accuracy_score(y_test, y_test_pred))\n",
    "print(\"F1(malignant=pos):\", f1_score(y_test, y_test_pred, pos_label=0))\n",
    "print(\"ROC-AUC:\", roc_auc_score(y_test, y_test_proba))\n",
    "\n",
    "print(\"\\nClassification report (TEST):\")\n",
    "print(classification_report(y_test, y_test_pred, target_names=bc.target_names))\n",
    "\n",
    "cm = confusion_matrix(y_test, y_test_pred, labels=[0,1])\n",
    "print(\"Confusion matrix [[TP_mal, FP_mal],[FN_mal, TN_mal]]:\\n\", cm)"
   ]
  }
 ],
 "metadata": {
  "kernelspec": {
   "display_name": ".venv",
   "language": "python",
   "name": "python3"
  },
  "language_info": {
   "codemirror_mode": {
    "name": "ipython",
    "version": 3
   },
   "file_extension": ".py",
   "mimetype": "text/x-python",
   "name": "python",
   "nbconvert_exporter": "python",
   "pygments_lexer": "ipython3",
   "version": "3.12.10"
  }
 },
 "nbformat": 4,
 "nbformat_minor": 5
}
