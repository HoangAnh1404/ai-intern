{
 "cells": [
  {
   "cell_type": "code",
   "execution_count": 2,
   "id": "d82f6f9a",
   "metadata": {},
   "outputs": [
    {
     "name": "stderr",
     "output_type": "stream",
     "text": [
      "Downloading readme: 100%|██████████| 429/429 [00:00<00:00, 819B/s]\n",
      "/home/meu1404/miniforge/envs/rapids-ml/lib/python3.12/site-packages/transformers/tokenization_utils_base.py:1601: FutureWarning: `clean_up_tokenization_spaces` was not set. It will be set to `True` by default. This behavior will be depracted in transformers v4.45, and will be then set to `False` by default. For more details check this issue: https://github.com/huggingface/transformers/issues/31884\n",
      "  warnings.warn(\n",
      "Some weights of the model checkpoint at google-bert/bert-base-uncased were not used when initializing BertForMaskedLM: ['bert.pooler.dense.bias', 'bert.pooler.dense.weight', 'cls.seq_relationship.bias', 'cls.seq_relationship.weight']\n",
      "- This IS expected if you are initializing BertForMaskedLM from the checkpoint of a model trained on another task or with another architecture (e.g. initializing a BertForSequenceClassification model from a BertForPreTraining model).\n",
      "- This IS NOT expected if you are initializing BertForMaskedLM from the checkpoint of a model that you expect to be exactly identical (initializing a BertForSequenceClassification model from a BertForSequenceClassification model).\n"
     ]
    }
   ],
   "source": [
    "from datasets import load_dataset\n",
    "\n",
    "ds = load_dataset(\"frfede/twitter-sentiment\")\n",
    "\n",
    "from transformers import AutoTokenizer, AutoModelForMaskedLM\n",
    "\n",
    "tokenizer = AutoTokenizer.from_pretrained(\"google-bert/bert-base-uncased\")\n",
    "model = AutoModelForMaskedLM.from_pretrained(\"google-bert/bert-base-uncased\")"
   ]
  },
  {
   "cell_type": "code",
   "execution_count": 3,
   "id": "fe3afe1f",
   "metadata": {},
   "outputs": [
    {
     "name": "stdout",
     "output_type": "stream",
     "text": [
      "DatasetDict({\n",
      "    train: Dataset({\n",
      "        features: ['text', 'label', 'sentiment'],\n",
      "        num_rows: 62850\n",
      "    })\n",
      "})\n"
     ]
    }
   ],
   "source": [
    "print(ds)"
   ]
  },
  {
   "cell_type": "code",
   "execution_count": 4,
   "id": "9ed17f8b",
   "metadata": {},
   "outputs": [
    {
     "name": "stdout",
     "output_type": "stream",
     "text": [
      "DatasetDict({\n",
      "    train: Dataset({\n",
      "        features: ['text', 'label', 'sentiment'],\n",
      "        num_rows: 62850\n",
      "    })\n",
      "})\n"
     ]
    }
   ],
   "source": [
    "import numpy as np\n",
    "from datasets import DatasetDict\n",
    "\n",
    "ds.remove_columns('sentiment')\n",
    "\n",
    "print(ds)"
   ]
  },
  {
   "cell_type": "code",
   "execution_count": 5,
   "id": "069a4122",
   "metadata": {},
   "outputs": [
    {
     "name": "stdout",
     "output_type": "stream",
     "text": [
      "DatasetDict({\n",
      "    train: Dataset({\n",
      "        features: ['text', 'label', 'sentiment'],\n",
      "        num_rows: 50280\n",
      "    })\n",
      "    validation: Dataset({\n",
      "        features: ['text', 'label', 'sentiment'],\n",
      "        num_rows: 6285\n",
      "    })\n",
      "    test: Dataset({\n",
      "        features: ['text', 'label', 'sentiment'],\n",
      "        num_rows: 6285\n",
      "    })\n",
      "})\n"
     ]
    }
   ],
   "source": [
    "possible_text_cols = [\"text\", \"tweet\", \"content\", \"sentence\", \"full_text\"]\n",
    "cols = ds[\"train\"].column_names\n",
    "text_col = next((c for c in possible_text_cols if c in cols), None)\n",
    "if text_col is None:\n",
    "    text_col = [c for c in cols if c not in [\"label\", \"sentiment\", \"id\", \"idx\"]][0]\n",
    "\n",
    "tmp = ds['train'].train_test_split(test_size=0.2, seed=42)          # 80% train, 20% tạm\n",
    "val_test = tmp[\"test\"].train_test_split(test_size=0.5, seed=42)       # 10% val, 10% test\n",
    "ds = DatasetDict(train=tmp[\"train\"], validation=val_test[\"train\"], test=val_test[\"test\"])\n",
    "print(ds)"
   ]
  },
  {
   "cell_type": "code",
   "execution_count": 6,
   "id": "8a7c8d74",
   "metadata": {},
   "outputs": [],
   "source": [
    "import re, html, unicodedata\n",
    "\n",
    "URL_RE     = re.compile(r\"(https?://\\S+|www\\.\\S+)\", flags=re.IGNORECASE)\n",
    "USER_RE    = re.compile(r\"@\\w+\")\n",
    "HASHTAG_RE = re.compile(r\"#(\\w+)\")\n",
    "NUM_RE     = re.compile(r\"\\b\\d+(?:[.,]\\d+)*\\b\")\n",
    "RT_RE      = re.compile(r\"\\bRT\\b:?\")\n",
    "ELONG_RE   = re.compile(r\"(.)\\1{2,}\")\n",
    "\n",
    "def normalize_unicode(s: str) -> str:\n",
    "    s = unicodedata.normalize(\"NFKC\", s)\n",
    "    s = html.unescape(s)\n",
    "    s = \"\".join(ch for ch in s if ch.isprintable() or ch in \"\\t\\n\\r\")\n",
    "    return s\n",
    "\n",
    "def preprocess_tweet(s: str) -> str:\n",
    "    s = normalize_unicode(s)\n",
    "\n",
    "    s = URL_RE.sub(\" <URL> \", s)\n",
    "    s = USER_RE.sub(\" <USER> \", s)\n",
    "    s = RT_RE.sub(\" <RT> \", s)\n",
    "    s = HASHTAG_RE.sub(r\" \\1 \", s)\n",
    "    s = NUM_RE.sub(\" <NUM> \", s)\n",
    "\n",
    "    s = ELONG_RE.sub(r\"\\1\\1\", s)\n",
    "\n",
    "    s = re.sub(r\"\\s+\", \" \", s).strip()\n",
    "    return s"
   ]
  },
  {
   "cell_type": "code",
   "execution_count": 7,
   "id": "5fb94134",
   "metadata": {},
   "outputs": [
    {
     "name": "stderr",
     "output_type": "stream",
     "text": [
      "Map:   0%|          | 0/50280 [00:00<?, ? examples/s]"
     ]
    },
    {
     "name": "stderr",
     "output_type": "stream",
     "text": [
      "Map: 100%|██████████| 50280/50280 [00:02<00:00, 19425.91 examples/s]\n",
      "Map: 100%|██████████| 6285/6285 [00:00<00:00, 21430.09 examples/s]\n",
      "Map: 100%|██████████| 6285/6285 [00:00<00:00, 20657.63 examples/s]\n",
      "Filter: 100%|██████████| 50280/50280 [00:00<00:00, 179501.14 examples/s]\n",
      "Filter: 100%|██████████| 6285/6285 [00:00<00:00, 184771.75 examples/s]\n",
      "Filter: 100%|██████████| 6285/6285 [00:00<00:00, 182674.44 examples/s]"
     ]
    },
    {
     "name": "stdout",
     "output_type": "stream",
     "text": [
      "DatasetDict({\n",
      "    train: Dataset({\n",
      "        features: ['text', 'label', 'sentiment'],\n",
      "        num_rows: 50280\n",
      "    })\n",
      "    validation: Dataset({\n",
      "        features: ['text', 'label', 'sentiment'],\n",
      "        num_rows: 6285\n",
      "    })\n",
      "    test: Dataset({\n",
      "        features: ['text', 'label', 'sentiment'],\n",
      "        num_rows: 6285\n",
      "    })\n",
      "})\n"
     ]
    },
    {
     "name": "stderr",
     "output_type": "stream",
     "text": [
      "\n"
     ]
    }
   ],
   "source": [
    "def preprocess_batch(batch):\n",
    "    return {text_col: [preprocess_tweet(t) for t in batch[text_col]]}\n",
    "\n",
    "ds_clean = DatasetDict({\n",
    "    \"train\": ds[\"train\"].map(preprocess_batch, batched=True),\n",
    "    \"validation\": ds[\"validation\"].map(preprocess_batch, batched=True),\n",
    "    \"test\": ds[\"test\"].map(preprocess_batch, batched=True),\n",
    "})\n",
    "\n",
    "ds_clean = ds_clean.filter(lambda ex: len(ex[text_col].strip()) > 0)\n",
    "\n",
    "print(ds_clean)"
   ]
  },
  {
   "cell_type": "code",
   "execution_count": 8,
   "id": "0de3e672",
   "metadata": {},
   "outputs": [
    {
     "name": "stdout",
     "output_type": "stream",
     "text": [
      "Sample BEFORE  : feels like warm things\n",
      "Sample AFTER   : feels like warm things\n",
      "Label dist (train): {0: '16764 (33.3%)', 1: '16785 (33.4%)', 2: '16731 (33.3%)'}\n",
      "Label dist (valid): {0: '2082 (33.1%)', 1: '2092 (33.3%)', 2: '2111 (33.6%)'}\n",
      "Label dist (test) : {0: '2104 (33.5%)', 1: '2073 (33.0%)', 2: '2108 (33.5%)'}\n"
     ]
    }
   ],
   "source": [
    "from collections import Counter\n",
    "print(\"Sample BEFORE  :\", ds[\"train\"][0][text_col])\n",
    "print(\"Sample AFTER   :\", ds_clean[\"train\"][0][text_col])\n",
    "\n",
    "def label_counts(d): \n",
    "    c = Counter(d[\"label\"])\n",
    "    total = sum(c.values())\n",
    "    return {k: f\"{v} ({v/total:.1%})\" for k, v in sorted(c.items())}\n",
    "\n",
    "print(\"Label dist (train):\", label_counts(ds_clean[\"train\"]))\n",
    "print(\"Label dist (valid):\", label_counts(ds_clean[\"validation\"]))\n",
    "print(\"Label dist (test) :\", label_counts(ds_clean[\"test\"]))"
   ]
  },
  {
   "cell_type": "code",
   "execution_count": 9,
   "id": "bd836ef4",
   "metadata": {},
   "outputs": [
    {
     "name": "stderr",
     "output_type": "stream",
     "text": [
      "/home/meu1404/miniforge/envs/rapids-ml/lib/python3.12/site-packages/transformers/tokenization_utils_base.py:1601: FutureWarning: `clean_up_tokenization_spaces` was not set. It will be set to `True` by default. This behavior will be depracted in transformers v4.45, and will be then set to `False` by default. For more details check this issue: https://github.com/huggingface/transformers/issues/31884\n",
      "  warnings.warn(\n",
      "Map: 100%|██████████| 50280/50280 [00:03<00:00, 15337.03 examples/s]\n",
      "Map: 100%|██████████| 6285/6285 [00:00<00:00, 18185.93 examples/s]\n",
      "Map: 100%|██████████| 6285/6285 [00:03<00:00, 1829.16 examples/s] "
     ]
    },
    {
     "name": "stdout",
     "output_type": "stream",
     "text": [
      "DatasetDict({\n",
      "    train: Dataset({\n",
      "        features: ['label', 'sentiment', 'input_ids', 'token_type_ids', 'attention_mask'],\n",
      "        num_rows: 50280\n",
      "    })\n",
      "    validation: Dataset({\n",
      "        features: ['label', 'sentiment', 'input_ids', 'token_type_ids', 'attention_mask'],\n",
      "        num_rows: 6285\n",
      "    })\n",
      "    test: Dataset({\n",
      "        features: ['label', 'sentiment', 'input_ids', 'token_type_ids', 'attention_mask'],\n",
      "        num_rows: 6285\n",
      "    })\n",
      "})\n",
      "num_labels: 3\n"
     ]
    },
    {
     "name": "stderr",
     "output_type": "stream",
     "text": [
      "\n"
     ]
    }
   ],
   "source": [
    "from transformers import AutoTokenizer\n",
    "from transformers import DataCollatorWithPadding\n",
    "\n",
    "MAX_LENGTH = 128\n",
    "MODEL_NAME = \"bert-base-uncased\"\n",
    "tokenizer = AutoTokenizer.from_pretrained(MODEL_NAME, use_fast=True)\n",
    "\n",
    "def token_len(texts):\n",
    "    return [len(tokenizer(t, truncation=False)[\"input_ids\"]) for t in texts]\n",
    "\n",
    "def tok_fn(batch):\n",
    "    return tokenizer(batch[text_col], truncation=True, padding=False, max_length=MAX_LENGTH)\n",
    "\n",
    "tok_ds = ds_clean.map(tok_fn, batched=True, remove_columns=[text_col])\n",
    "data_collator = DataCollatorWithPadding(tokenizer)\n",
    "num_labels = len(set(tok_ds[\"train\"][\"label\"]))\n",
    "\n",
    "print(tok_ds)\n",
    "print(\"num_labels:\", num_labels)\n",
    "\n"
   ]
  },
  {
   "cell_type": "code",
   "execution_count": 10,
   "id": "3dcab45f",
   "metadata": {},
   "outputs": [
    {
     "name": "stderr",
     "output_type": "stream",
     "text": [
      "Some weights of BertForSequenceClassification were not initialized from the model checkpoint at bert-base-uncased and are newly initialized: ['classifier.bias', 'classifier.weight']\n",
      "You should probably TRAIN this model on a down-stream task to be able to use it for predictions and inference.\n"
     ]
    },
    {
     "name": "stdout",
     "output_type": "stream",
     "text": [
      "Model: bert-base-uncased | num_labels: 3 | device: cuda\n",
      "Total params (M): 109.48\n"
     ]
    }
   ],
   "source": [
    "from transformers import AutoModelForSequenceClassification\n",
    "import torch\n",
    "\n",
    "MODEL_NAME = tokenizer.name_or_path if 'tokenizer' in globals() else \"bert-base-uncased\"\n",
    "\n",
    "labels_sorted = sorted(set(ds[\"train\"][\"label\"]))\n",
    "id2label = {i: str(i) for i in labels_sorted}\n",
    "label2id = {v: k for k, v in id2label.items()}\n",
    "\n",
    "model = AutoModelForSequenceClassification.from_pretrained(\n",
    "    MODEL_NAME,\n",
    "    num_labels=len(labels_sorted),\n",
    "    id2label=id2label,\n",
    "    label2id=label2id,\n",
    ")\n",
    "\n",
    "device = \"cuda\" if torch.cuda.is_available() else \"cpu\"\n",
    "model.to(device)\n",
    "\n",
    "print(\"Model:\", MODEL_NAME, \"| num_labels:\", len(labels_sorted), \"| device:\", device)\n",
    "print(\"Total params (M):\", round(sum(p.numel() for p in model.parameters())/1e6, 2))"
   ]
  },
  {
   "cell_type": "code",
   "execution_count": 12,
   "id": "fb1797a6",
   "metadata": {},
   "outputs": [
    {
     "name": "stderr",
     "output_type": "stream",
     "text": [
      "Using the latest cached version of the module from /home/meu1404/.cache/huggingface/modules/evaluate_modules/metrics/evaluate-metric--accuracy/f887c0aab52c2d38e1f8a215681126379eca617f96c447638f751434e8e65b14 (last modified on Fri Sep 26 04:52:15 2025) since it couldn't be found locally at evaluate-metric--accuracy, or remotely on the Hugging Face Hub.\n",
      "Using the latest cached version of the module from /home/meu1404/.cache/huggingface/modules/evaluate_modules/metrics/evaluate-metric--precision/155d3220d6cd4a6553f12da68eeb3d1f97cf431206304a4bc6e2d564c29502e9 (last modified on Fri Sep 26 04:52:17 2025) since it couldn't be found locally at evaluate-metric--precision, or remotely on the Hugging Face Hub.\n",
      "Using the latest cached version of the module from /home/meu1404/.cache/huggingface/modules/evaluate_modules/metrics/evaluate-metric--recall/11f90e583db35601050aed380d48e83202a896976b9608432fba9244fb447f24 (last modified on Fri Sep 26 04:52:19 2025) since it couldn't be found locally at evaluate-metric--recall, or remotely on the Hugging Face Hub.\n",
      "Using the latest cached version of the module from /home/meu1404/.cache/huggingface/modules/evaluate_modules/metrics/evaluate-metric--f1/34c46321f42186df33a6260966e34a368f14868d9cc2ba47d142112e2800d233 (last modified on Fri Sep 26 04:52:21 2025) since it couldn't be found locally at evaluate-metric--f1, or remotely on the Hugging Face Hub.\n",
      "/home/meu1404/miniforge/envs/rapids-ml/lib/python3.12/site-packages/transformers/training_args.py:1525: FutureWarning: `evaluation_strategy` is deprecated and will be removed in version 4.46 of 🤗 Transformers. Use `eval_strategy` instead\n",
      "  warnings.warn(\n",
      "/home/meu1404/miniforge/envs/rapids-ml/lib/python3.12/site-packages/accelerate/accelerator.py:494: FutureWarning: `torch.cuda.amp.GradScaler(args...)` is deprecated. Please use `torch.amp.GradScaler('cuda', args...)` instead.\n",
      "  self.scaler = torch.cuda.amp.GradScaler(**kwargs)\n"
     ]
    },
    {
     "data": {
      "text/html": [
       "\n",
       "    <div>\n",
       "      \n",
       "      <progress value='18855' max='18855' style='width:300px; height:20px; vertical-align: middle;'></progress>\n",
       "      [18855/18855 52:24, Epoch 3/3]\n",
       "    </div>\n",
       "    <table border=\"1\" class=\"dataframe\">\n",
       "  <thead>\n",
       " <tr style=\"text-align: left;\">\n",
       "      <th>Epoch</th>\n",
       "      <th>Training Loss</th>\n",
       "      <th>Validation Loss</th>\n",
       "      <th>Accuracy</th>\n",
       "      <th>Precision</th>\n",
       "      <th>Recall</th>\n",
       "      <th>F1</th>\n",
       "    </tr>\n",
       "  </thead>\n",
       "  <tbody>\n",
       "    <tr>\n",
       "      <td>1</td>\n",
       "      <td>0.482900</td>\n",
       "      <td>0.499918</td>\n",
       "      <td>0.812888</td>\n",
       "      <td>0.812103</td>\n",
       "      <td>0.812888</td>\n",
       "      <td>0.812400</td>\n",
       "    </tr>\n",
       "    <tr>\n",
       "      <td>2</td>\n",
       "      <td>0.401600</td>\n",
       "      <td>0.482109</td>\n",
       "      <td>0.858075</td>\n",
       "      <td>0.858182</td>\n",
       "      <td>0.858075</td>\n",
       "      <td>0.857239</td>\n",
       "    </tr>\n",
       "    <tr>\n",
       "      <td>3</td>\n",
       "      <td>0.218800</td>\n",
       "      <td>0.578856</td>\n",
       "      <td>0.872872</td>\n",
       "      <td>0.872336</td>\n",
       "      <td>0.872872</td>\n",
       "      <td>0.872476</td>\n",
       "    </tr>\n",
       "  </tbody>\n",
       "</table><p>"
      ],
      "text/plain": [
       "<IPython.core.display.HTML object>"
      ]
     },
     "metadata": {},
     "output_type": "display_data"
    },
    {
     "data": {
      "text/plain": [
       "TrainOutput(global_step=18855, training_loss=0.37852897297258054, metrics={'train_runtime': 3144.9649, 'train_samples_per_second': 47.962, 'train_steps_per_second': 5.995, 'total_flos': 4116286085940000.0, 'train_loss': 0.37852897297258054, 'epoch': 3.0})"
      ]
     },
     "execution_count": 12,
     "metadata": {},
     "output_type": "execute_result"
    }
   ],
   "source": [
    "\n",
    "import numpy as np, evaluate\n",
    "acc = evaluate.load(\"accuracy\"); prec = evaluate.load(\"precision\")\n",
    "rec = evaluate.load(\"recall\");   f1 = evaluate.load(\"f1\")\n",
    "\n",
    "avg = \"weighted\"  \n",
    "def compute_metrics(eval_pred):\n",
    "    logits, labels = eval_pred\n",
    "    preds = np.argmax(logits, axis=-1)\n",
    "    return {\n",
    "        \"accuracy\": acc.compute(predictions=preds, references=labels)[\"accuracy\"],\n",
    "        \"precision\": prec.compute(predictions=preds, references=labels, average=avg)[\"precision\"],\n",
    "        \"recall\": rec.compute(predictions=preds, references=labels, average=avg)[\"recall\"],\n",
    "        \"f1\": f1.compute(predictions=preds, references=labels, average=avg)[\"f1\"],\n",
    "    }\n",
    "\n",
    "\n",
    "from transformers import TrainingArguments, Trainer, EarlyStoppingCallback\n",
    "\n",
    "args = TrainingArguments(\n",
    "    output_dir=\"./results\",\n",
    "    evaluation_strategy=\"epoch\",\n",
    "    save_strategy=\"epoch\",\n",
    "    logging_strategy=\"steps\",\n",
    "    logging_steps=50,\n",
    "    learning_rate=2e-5,\n",
    "    per_device_train_batch_size=8,  \n",
    "    per_device_eval_batch_size=16,\n",
    "    gradient_accumulation_steps=1,\n",
    "    num_train_epochs=3,\n",
    "    warmup_ratio=0.06,\n",
    "    weight_decay=0.01,\n",
    "    load_best_model_at_end=True,\n",
    "    metric_for_best_model=\"f1\",\n",
    "    greater_is_better=True,\n",
    "    fp16=True,        \n",
    "    report_to=\"none\", \n",
    "    seed=42,\n",
    ")\n",
    "\n",
    "trainer = Trainer(\n",
    "    model=model,\n",
    "    args=args,\n",
    "    train_dataset=tok_ds[\"train\"],\n",
    "    eval_dataset=tok_ds[\"validation\"],\n",
    "    tokenizer=tokenizer,\n",
    "    data_collator=data_collator,\n",
    "    compute_metrics=compute_metrics,\n",
    "    callbacks=[EarlyStoppingCallback(early_stopping_patience=2)],\n",
    ")\n",
    "\n",
    "train_out = trainer.train()\n",
    "train_out\n"
   ]
  },
  {
   "cell_type": "code",
   "execution_count": 13,
   "id": "9ef2306e",
   "metadata": {},
   "outputs": [
    {
     "data": {
      "text/html": [],
      "text/plain": [
       "<IPython.core.display.HTML object>"
      ]
     },
     "metadata": {},
     "output_type": "display_data"
    },
    {
     "name": "stdout",
     "output_type": "stream",
     "text": [
      "Validation: {'eval_loss': 0.5788559317588806, 'eval_accuracy': 0.8728719172633254, 'eval_precision': 0.8723359070238306, 'eval_recall': 0.8728719172633254, 'eval_f1': 0.8724762631062285, 'eval_runtime': 14.3297, 'eval_samples_per_second': 438.598, 'eval_steps_per_second': 27.425, 'epoch': 3.0}\n",
      "\n",
      "Classification report (TEST):\n",
      "              precision    recall  f1-score   support\n",
      "\n",
      "           0     0.8875    0.9040    0.8957      2104\n",
      "           1     0.8385    0.8066    0.8222      2073\n",
      "           2     0.8934    0.9103    0.9018      2108\n",
      "\n",
      "    accuracy                         0.8740      6285\n",
      "   macro avg     0.8731    0.8736    0.8732      6285\n",
      "weighted avg     0.8733    0.8740    0.8735      6285\n",
      "\n"
     ]
    },
    {
     "data": {
      "image/png": "[encoded data removed]",
      "text/plain": [
       "<Figure size 600x500 with 2 Axes>"
      ]
     },
     "metadata": {},
     "output_type": "display_data"
    }
   ],
   "source": [
    "from sklearn.metrics import classification_report, confusion_matrix\n",
    "import matplotlib.pyplot as plt\n",
    "import numpy as np\n",
    "\n",
    "print(\"Validation:\", trainer.evaluate(tok_ds[\"validation\"]))\n",
    "\n",
    "pred = trainer.predict(tok_ds[\"test\"])\n",
    "y_true = pred.label_ids\n",
    "y_pred = pred.predictions.argmax(axis=-1)\n",
    "\n",
    "print(\"\\nClassification report (TEST):\")\n",
    "print(classification_report(y_true, y_pred, target_names=[str(i) for i in sorted(set(y_true))], digits=4))\n",
    "\n",
    "cm = confusion_matrix(y_true, y_pred)\n",
    "plt.figure(figsize=(6,5))\n",
    "plt.imshow(cm, interpolation=\"nearest\"); plt.title(\"Confusion Matrix (Test)\"); plt.colorbar()\n",
    "ticks = np.arange(cm.shape[0])\n",
    "plt.xticks(ticks, ticks); plt.yticks(ticks, ticks)\n",
    "for i in range(cm.shape[0]):\n",
    "    for j in range(cm.shape[1]):\n",
    "        plt.text(j, i, cm[i,j], ha=\"center\", va=\"center\")\n",
    "plt.ylabel(\"True\")\n",
    "plt.xlabel(\"Pred\")\n",
    "plt.tight_layout()\n",
    "plt.show()\n"
   ]
  }
 ],
 "metadata": {
  "kernelspec": {
   "display_name": "rapids-ml (CUDA12.5)",
   "language": "python",
   "name": "rapids-ml"
  },
  "language_info": {
   "codemirror_mode": {
    "name": "ipython",
    "version": 3
   },
   "file_extension": ".py",
   "mimetype": "text/x-python",
   "name": "python",
   "nbconvert_exporter": "python",
   "pygments_lexer": "ipython3",
   "version": "3.12.11"
  }
 },
 "nbformat": 4,
 "nbformat_minor": 5
}
